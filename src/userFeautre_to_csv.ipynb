{
 "cells": [
  {
   "cell_type": "code",
   "execution_count": 43,
   "metadata": {},
   "outputs": [],
   "source": [
    "import pandas as pd\n",
    "import numpy as np"
   ]
  },
  {
   "cell_type": "code",
   "execution_count": 44,
   "metadata": {},
   "outputs": [],
   "source": [
    "def readline(line):\n",
    "    current_line_list=[]\n",
    "    for tuple_str in line.split('|'):\n",
    "        name_value = tuple_str.split()\n",
    "        if len(name_value)==1:\n",
    "            current_line_list.append((name_value[0],None))\n",
    "        elif len(name_value)==2:\n",
    "            current_line_list.append((name_value[0],name_value[1]))\n",
    "        else:\n",
    "            index = tuple_str.find(name_value[1])\n",
    "            current_line_list.append((name_value[0],tuple_str[index:]))\n",
    "    return current_line_list       "
   ]
  },
  {
   "cell_type": "code",
   "execution_count": 45,
   "metadata": {},
   "outputs": [],
   "source": [
    "def generate_df(line_lists):\n",
    "    datas=[]\n",
    "    for i in range(len(line_lists)):\n",
    "        row=[np.NAN]*len(columns)\n",
    "        for j in range(len(line_lists[i])):\n",
    "            key = line_lists[i][j][0]\n",
    "            column_num =  columns_map[key]\n",
    "            row[column_num] = line_lists[i][j][1]\n",
    "        datas.append(row)\n",
    "    return datas"
   ]
  },
  {
   "cell_type": "code",
   "execution_count": 46,
   "metadata": {},
   "outputs": [],
   "source": [
    "def save(filename,datas):\n",
    "    user_feature_df = pd.DataFrame(datas,columns=columns)\n",
    "    user_feature_df.to_csv(filename,sep=',',index=False)"
   ]
  },
  {
   "cell_type": "code",
   "execution_count": 47,
   "metadata": {},
   "outputs": [],
   "source": [
    "columns_map={}\n",
    "columns=['uid','age','gender','LBS','consumptionAbility', 'education','topic1', 'topic2', 'topic3', 'kw1', 'kw2','kw3','carrier', 'ct',  'marriageStatus', 'interest1', 'interest2','interest3','interest4','interest5','house', 'os','appIdAction','appIdInstall']\n",
    "for i in range(len(columns)):\n",
    "    columns_map[columns[i]]=i"
   ]
  },
  {
   "cell_type": "code",
   "execution_count": null,
   "metadata": {},
   "outputs": [
    {
     "ename": "KeyboardInterrupt",
     "evalue": "",
     "output_type": "error",
     "traceback": [
      "\u001b[0;31m---------------------------------------------------------------------------\u001b[0m",
      "\u001b[0;31mKeyboardInterrupt\u001b[0m                         Traceback (most recent call last)",
      "\u001b[0;32m~/anaconda3/lib/python3.6/site-packages/zmq/backend/cython/checkrc.pxd\u001b[0m in \u001b[0;36mzmq.backend.cython.checkrc._check_rc\u001b[0;34m()\u001b[0m\n",
      "\u001b[0;31mKeyboardInterrupt\u001b[0m: "
     ]
    },
    {
     "name": "stderr",
     "output_type": "stream",
     "text": [
      "Exception ignored in: 'zmq.backend.cython.message.Frame.__dealloc__'\n",
      "Traceback (most recent call last):\n",
      "  File \"zmq/backend/cython/checkrc.pxd\", line 12, in zmq.backend.cython.checkrc._check_rc\n",
      "KeyboardInterrupt\n"
     ]
    }
   ],
   "source": [
    "# 如果想全部保存到一个文件,也很简单,那么只要把MAX_NUM设置为>userFeature.data的行数即可\n",
    "MAX_NUM=1000\n",
    "line_lists=[]\n",
    "\n",
    "import os\n",
    "if not os.path.exists(\"../tmp/\"):\n",
    "    os.mkdir(\"../tmp/\")\n",
    "\n",
    "with open('../data/userFeature.data') as f:\n",
    "    count=0\n",
    "    for line in f:\n",
    "        current_line_list=readline(line)\n",
    "        line_lists.append(current_line_list)\n",
    "        count +=1\n",
    "        if count%MAX_NUM==0:\n",
    "            datas = generate_df(line_lists)\n",
    "            file_index = (count//MAX_NUM)\n",
    "            filename = \"../tmp/MyUserFeature\"+str(file_index)+\".csv\"\n",
    "            save(filename,datas)\n",
    "            line_lists=[]\n",
    "    if count%MAX_NUM!=0:\n",
    "        datas = generate_df(line_lists)\n",
    "        file_index = (count//MAX_NUM)+1\n",
    "        filename = \"../tmp/MyUserFeature\"+str(file_index)+\".csv\"\n",
    "        save(filename,datas)\n",
    "    f.close()"
   ]
  },
  {
   "cell_type": "code",
   "execution_count": 41,
   "metadata": {},
   "outputs": [],
   "source": [
    "del line_lists, datas\n",
    "user_feature=pd.concat([pd.read_csv('MyUserFeature' + str(i) + '.csv') for i in range(1,13)]).reset_index(drop=True)\n",
    "user_feature.to_csv('../data/MyUserFeature.csv', index=False)\n"
   ]
  },
  {
   "cell_type": "code",
   "execution_count": null,
   "metadata": {},
   "outputs": [],
   "source": []
  }
 ],
 "metadata": {
  "kernelspec": {
   "display_name": "Python 3",
   "language": "python",
   "name": "python3"
  },
  "language_info": {
   "codemirror_mode": {
    "name": "ipython",
    "version": 3
   },
   "file_extension": ".py",
   "mimetype": "text/x-python",
   "name": "python",
   "nbconvert_exporter": "python",
   "pygments_lexer": "ipython3",
   "version": "3.6.4"
  }
 },
 "nbformat": 4,
 "nbformat_minor": 2
}
